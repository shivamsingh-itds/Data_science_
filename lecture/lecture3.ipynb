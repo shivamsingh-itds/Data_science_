{
 "cells": [
  {
   "cell_type": "code",
   "execution_count": 6,
   "id": "681e1c68",
   "metadata": {},
   "outputs": [
    {
     "name": "stdout",
     "output_type": "stream",
     "text": [
      "I SAGetCut\n"
     ]
    }
   ],
   "source": [
    "str = \"INDIA IS A Great Country\"\n",
    "print(str[3 : -2 : 2])"
   ]
  },
  {
   "cell_type": "code",
   "execution_count": 9,
   "id": "be7b33c9",
   "metadata": {},
   "outputs": [
    {
     "name": "stdout",
     "output_type": "stream",
     "text": [
      "eciN aci\n",
      "rica Nic\n"
     ]
    }
   ],
   "source": [
    "Str = \"America Nice\"\n",
    "print(Str[-1 : -9 : -1]) # if we put 1 in step or blank than there will be no output becuase of line will go forward\n",
    "\n",
    "print(Str[-9 : -1 : ])"
   ]
  },
  {
   "cell_type": "code",
   "execution_count": 10,
   "id": "98f10b11",
   "metadata": {},
   "outputs": [
    {
     "name": "stdout",
     "output_type": "stream",
     "text": [
      "ja\n",
      "nanaj\n"
     ]
    }
   ],
   "source": [
    "str = \"Gajanan\"\n",
    "print(str[ 2 : -3 :])\n",
    "print(str[ -1 : 1 : -1])"
   ]
  },
  {
   "cell_type": "code",
   "execution_count": 18,
   "id": "7214987f",
   "metadata": {},
   "outputs": [
    {
     "name": "stdout",
     "output_type": "stream",
     "text": [
      "I am true\n",
      "Not satisfy the criteria\n"
     ]
    }
   ],
   "source": [
    "# IF else statement\n",
    "\n",
    "if True :\n",
    "    print(\"I am true\") \n",
    "if False :\n",
    "    print(\"I am false \")\n",
    "# (Only true statement will run , if statement is false then it will ignore)\n",
    "'''\n",
    "Syntax \n",
    "if <condition> :\n",
    "    print(\"output\" )\n",
    "else:\n",
    "    print(\"output\")\n",
    "\n",
    "'''\n",
    "\n",
    "num = 100 \n",
    "if num > 100 :\n",
    "    print(\"The number is stisfy ceriteria\")\n",
    "else : \n",
    "    print(\"Not satisfy the criteria\")\n",
    "\n",
    "\n",
    "\n",
    "\n",
    "\n"
   ]
  },
  {
   "cell_type": "code",
   "execution_count": 20,
   "id": "7f04ca57",
   "metadata": {},
   "outputs": [
    {
     "name": "stdout",
     "output_type": "stream",
     "text": [
      "The number is 2\n"
     ]
    }
   ],
   "source": [
    "# Guessing the number game \n",
    "'''\n",
    "Logic :\n",
    "step1 : Enter the number \n",
    "step2 : write logic code to guess the correct nubmer \n",
    "step3 : output\n",
    "'''\n",
    "number = float(input(\"Enter the number between 1 to 3 : \"))\n",
    "\n",
    "if number == 1 :\n",
    "    print('The number is 1')\n",
    "if number == 2 :\n",
    "    print('The number is 2')\n",
    "if number == 3 :\n",
    "    print('The number is 3')\n",
    "\n"
   ]
  },
  {
   "cell_type": "code",
   "execution_count": 22,
   "id": "b7a534b2",
   "metadata": {},
   "outputs": [
    {
     "name": "stdout",
     "output_type": "stream",
     "text": [
      "The number is equal to 2 \n"
     ]
    }
   ],
   "source": [
    "number = float(input(\"Enter the number between 1 to 3 : \"))\n",
    "if number > 2 :\n",
    "    print(\"The number is Higer value  \")\n",
    "if number < 2 : \n",
    "    print( \"The number isLower value \")\n",
    "if number == 2 : \n",
    "    print(\"The number is equal to 2 \")\n"
   ]
  },
  {
   "cell_type": "code",
   "execution_count": 25,
   "id": "dc11ef25",
   "metadata": {},
   "outputs": [
    {
     "name": "stdout",
     "output_type": "stream",
     "text": [
      "Not a palindrom\n"
     ]
    }
   ],
   "source": [
    "# TO chech where the given string is palindrom or not\n",
    "''' \n",
    "step 1 : Ask user to enter the string\n",
    "step 2 : Reverse the string\n",
    "'''\n",
    "# sir method\n",
    "# text1 = input(\"Enter the word\")\n",
    "# text2 = text1 \n",
    "# if text1 == text2 :\n",
    "#     print(\"The given string is palindom \")\n",
    "# else: \n",
    "#     print('Not a plaindrom')\n",
    "\n",
    "str = input(\"Enter the letter : \")\n",
    "if str[ : : ] == str[ -1 :  : -1]:\n",
    "    print(\"The give word is palindrom\")\n",
    "else: \n",
    "    print(\"Not a palindrom\")"
   ]
  },
  {
   "cell_type": "code",
   "execution_count": null,
   "id": "bf4ac715",
   "metadata": {},
   "outputs": [
    {
     "name": "stdout",
     "output_type": "stream",
     "text": [
      "you have score B grade \n"
     ]
    }
   ],
   "source": [
    "marks = float(input(\"Enter your marks : \"))\n",
    "if marks >= 90 :\n",
    "    print(\"you have score A grade \")\n",
    "elif marks >= 70 and marks < 90 :\n",
    "    print(\"you have score B grade \")\n",
    "elif marks >= 50 and marks < 70 :\n",
    "    print(\"You have score C grade \")\n",
    "elif marks >= 35 and marks < 50 :\n",
    "    print(\"You have score D grade \" )\n",
    "else : \n",
    "    print(\"you are fail \" )"
   ]
  }
 ],
 "metadata": {
  "kernelspec": {
   "display_name": "base",
   "language": "python",
   "name": "python3"
  },
  "language_info": {
   "codemirror_mode": {
    "name": "ipython",
    "version": 3
   },
   "file_extension": ".py",
   "mimetype": "text/x-python",
   "name": "python",
   "nbconvert_exporter": "python",
   "pygments_lexer": "ipython3",
   "version": "3.13.5"
  }
 },
 "nbformat": 4,
 "nbformat_minor": 5
}
