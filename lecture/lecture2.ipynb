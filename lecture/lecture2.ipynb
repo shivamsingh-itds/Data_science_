{
 "cells": [
  {
   "cell_type": "code",
   "execution_count": null,
   "id": "0f7bb862",
   "metadata": {},
   "outputs": [
    {
     "data": {
      "text/plain": [
       "'\\n1. Special characters are not allowed at the prefix of variable.\\nExample : 123num : not allowed X\\n2. The variable Definition should not contain any special character or space \\nExample : Primary Number : Not Allowed X\\n\\n\\n'"
      ]
     },
     "execution_count": 3,
     "metadata": {},
     "output_type": "execute_result"
    }
   ],
   "source": [
    "intergerNumber = 100\n",
    "\n",
    "# Rules for variable Definition\n",
    "\n",
    "'''\n",
    "1. Special characters are not allowed at the prefix of variable.\n",
    "Example : 123num : not allowed X\n",
    "2. The variable Definition should not contain any special character or space \n",
    "Example : Primary Number : Not Allowed X\n",
    "\n",
    "\n",
    "'''\n"
   ]
  },
  {
   "cell_type": "code",
   "execution_count": 8,
   "id": "06036774",
   "metadata": {},
   "outputs": [
    {
     "name": "stdout",
     "output_type": "stream",
     "text": [
      "Hii\n",
      "300\n"
     ]
    }
   ],
   "source": [
    "# PRINT FUNCTIONS:\n",
    "\n",
    "print('Hii')\n",
    "print(100+200)"
   ]
  },
  {
   "cell_type": "code",
   "execution_count": null,
   "id": "97914c0d",
   "metadata": {},
   "outputs": [
    {
     "name": "stdout",
     "output_type": "stream",
     "text": [
      "52\n",
      "The output of given 2 number is  :  52\n",
      "The output of given 2 number is  : 52 \n"
     ]
    }
   ],
   "source": [
    "# Simple Calculator\n",
    "\n",
    "'''\n",
    "Logic:\n",
    "step1 : Ask user to enter the two values\n",
    "step2  : perform Mathematical operation\n",
    "step3 : Print the Output\n",
    "\n",
    "'''\n",
    "#The below code will take input as a string\n",
    "# num1 = input(\"Enter the First value\")\n",
    "# num2 = input(\"Enter the second value\")\n",
    "# num = num1 + num2\n",
    "# print(num)\n",
    "\n",
    "\n",
    "#The below code will take input as a integer\n",
    "num1 = int(input(\"Enter the First value\"))     # Type casted to float\n",
    "num2 = int(input(\"Enter the second value\"))    # Type casted to float \n",
    "num = num1 + num2\n",
    "print(num)\n",
    "\n",
    "print(\"The output of given 2 number is  : \" , num)\n",
    "print(f\"The output of given 2 number is  : {num} \") # f-string method\n",
    "print(f\"The output of given 2 number is  : {num} \" .format(num)) # f-string method\n",
    "\n",
    "print(f\"The output of two number is {num1} and {num2} is {num}\")\n",
    "\n",
    "\n"
   ]
  },
  {
   "cell_type": "code",
   "execution_count": 15,
   "id": "14618843",
   "metadata": {},
   "outputs": [
    {
     "data": {
      "text/plain": [
       "(35, 10, 40, 20.0, 20, 0)"
      ]
     },
     "execution_count": 15,
     "metadata": {},
     "output_type": "execute_result"
    }
   ],
   "source": [
    "# Operators\n",
    "'''\n",
    "1. addition \n",
    "2. substraction \n",
    "3. Mutlipication\n",
    "4. Division\n",
    "5. Modulo\n",
    "\n",
    "'''\n",
    "\n",
    "12+23,30-20,20*2,40/2 ,40//2,40%2   # / give output as float and // give output as a integer\n"
   ]
  },
  {
   "cell_type": "code",
   "execution_count": null,
   "id": "11e2d54c",
   "metadata": {},
   "outputs": [
    {
     "name": "stdout",
     "output_type": "stream",
     "text": [
      ".nmagr otpf lo h teolwolH\n",
      ".gnimmargorp nohtyp fo dlrow eht ot emoclew olleH\n"
     ]
    }
   ],
   "source": [
    "# Concept of Indexing and slicing\n",
    "str = \"Hello welcome to the world of python programming.\"\n",
    "str[-2]\n",
    "\n",
    "'''\n",
    "Note :\n",
    "string indexing : string[start: stop : step]\n",
    "'''\n",
    "# print(str[1:10:2])\n",
    "\n",
    "print(str[: :-2])\n",
    "# .nmagr otpf lo h teolwolH (output)\n",
    "\n",
    "print(str[ : : -1])\n",
    "# .gnimmargorp nohtyp fo dlrow eht ot emoclew olleH (Output)"
   ]
  },
  {
   "cell_type": "code",
   "execution_count": null,
   "id": "8340f3f0",
   "metadata": {},
   "outputs": [],
   "source": []
  }
 ],
 "metadata": {
  "kernelspec": {
   "display_name": "base",
   "language": "python",
   "name": "python3"
  },
  "language_info": {
   "codemirror_mode": {
    "name": "ipython",
    "version": 3
   },
   "file_extension": ".py",
   "mimetype": "text/x-python",
   "name": "python",
   "nbconvert_exporter": "python",
   "pygments_lexer": "ipython3",
   "version": "3.13.5"
  }
 },
 "nbformat": 4,
 "nbformat_minor": 5
}
