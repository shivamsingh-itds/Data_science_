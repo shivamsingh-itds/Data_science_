{
 "cells": [
  {
   "cell_type": "code",
   "execution_count": 3,
   "id": "0b069574",
   "metadata": {},
   "outputs": [
    {
     "name": "stdout",
     "output_type": "stream",
     "text": [
      "The volume of cylinder  in which radius is 5.0 and hight is 5.0 =392.5 mm^3\n"
     ]
    }
   ],
   "source": [
    "# Write a program to print volume of cylinder \n",
    "'''\n",
    "volume = area * height \n",
    "step 1 : ask user to enter the diameter of cylinder \n",
    "step 2 : ask user to enter the height of cylider \n",
    "step 3 : volume = area * height \n",
    "step 4 : print the desired output \n",
    "\n",
    "'''\n",
    "\n",
    "radius = float(input(\"Enter the radius of cylinder : \"))\n",
    "Height = float(input(\"Enter the height of cylinder :\"))\n",
    "volume = 3.14 * (radius ** 2) * Height\n",
    "print(f\"The volume of cylinder  in which radius is {radius} and hight is {Height} ={volume} mm^3\")"
   ]
  },
  {
   "cell_type": "code",
   "execution_count": null,
   "id": "2165cd68",
   "metadata": {},
   "outputs": [],
   "source": [
    "# Student judgement\n",
    "'''\n",
    "step 1 : ask user to enter the marks \n",
    "step 3 : Logic\n",
    "    marks > 90 : Excellent\n",
    "    90 < marks > 60 : Bright \n",
    "    marks less than 60 : Moderate \n",
    "step 3 : print the output \n",
    "\n",
    "'''\n",
    "Marks = float(input(\"Enter the marks : \"))\n",
    "if Marks>=90 :\n",
    "    print(\"Excellent\")\n",
    "elif Marks < 90 and Marks > 60 :\n",
    "    print(\"Bright\")\n",
    "else : \n",
    "    print(\"Average\")\n",
    "\n",
    "\n",
    "\n",
    "\n"
   ]
  },
  {
   "cell_type": "code",
   "execution_count": 6,
   "id": "b146fdf5",
   "metadata": {},
   "outputs": [
    {
     "name": "stdout",
     "output_type": "stream",
     "text": [
      "2\n",
      "4\n",
      "6\n",
      "8\n",
      "10\n"
     ]
    }
   ],
   "source": [
    "# for loop \n",
    "# range(start, stop , step)\n",
    "# for i in range(10):\n",
    "#     print(i)\n",
    "\n",
    "# Even number \n",
    "for i in range(2 , 11 , 2):\n",
    "    print(i)"
   ]
  },
  {
   "cell_type": "code",
   "execution_count": 13,
   "id": "f1b9012e",
   "metadata": {},
   "outputs": [
    {
     "name": "stdout",
     "output_type": "stream",
     "text": [
      "*\n",
      "**\n",
      "***\n",
      "****\n",
      "*****\n",
      "******\n",
      "*******\n",
      "********\n",
      "*********\n"
     ]
    }
   ],
   "source": [
    "# for i in range(0 , 10) :\n",
    "#     print( i ,end = \" \")\n",
    "\n",
    "for i in range (1 ,10) :\n",
    "    print(\"*\" * i )"
   ]
  },
  {
   "cell_type": "code",
   "execution_count": 18,
   "id": "63d60e49",
   "metadata": {},
   "outputs": [
    {
     "name": "stdout",
     "output_type": "stream",
     "text": [
      "0\n",
      "1\n",
      "2\n",
      "3\n",
      "4\n",
      "5\n",
      "6\n",
      "7\n",
      "8\n",
      "9\n"
     ]
    }
   ],
   "source": [
    "# Break statement\n",
    "# for i in range(0 ,10) :\n",
    "#     print(i)\n",
    "#     if i == 6 :\n",
    "#         break\n",
    "\n",
    "# continue statement\n",
    "\n",
    "# for i in range(0 , 10 ):\n",
    "#     print(i)\n",
    "#     if i == 6 :\n",
    "#         continue\n",
    "\n",
    "    # pass statement\n",
    "\n",
    "for i in range(0 , 10 ):\n",
    "    print(i)\n",
    "    if i == 6 :\n",
    "        pass"
   ]
  },
  {
   "cell_type": "code",
   "execution_count": null,
   "id": "2ab5034b",
   "metadata": {},
   "outputs": [
    {
     "name": "stdout",
     "output_type": "stream",
     "text": [
      "The given string is a palindrom\n"
     ]
    }
   ],
   "source": [
    "# Define funtion : test \n",
    "# def test():     # Defining a function : test\n",
    "#     pass \n",
    "\n",
    "# test()          # Calling a function : Test\n",
    "\n",
    "\n",
    "# Palindrom function definition\n",
    "\n",
    "def Palindrom():\n",
    "    text1 = input(\"Enter the word : \")\n",
    "    text2 = text1[ : : -1]\n",
    "\n",
    "    if text1 == text2: \n",
    "        print(\"The given string is a palindrom\")\n",
    "    else : \n",
    "        print(\"The given is not a palindrom \")\n",
    "\n",
    "\n",
    "Palindrom() #function calling\n"
   ]
  },
  {
   "cell_type": "code",
   "execution_count": 26,
   "id": "fb145cbe",
   "metadata": {},
   "outputs": [
    {
     "name": "stdout",
     "output_type": "stream",
     "text": [
      " The answer is 300\n"
     ]
    }
   ],
   "source": [
    "def compute(num1 , num2 ): # function defining\n",
    "    num  = num1 + num2\n",
    "    return num\n",
    "ans = compute(100 ,200)       # callling the funtion \n",
    "print(f\" The answer is {ans}\")\n",
    "# print(f\" The answer is {compute(54 + 43)}\")"
   ]
  }
 ],
 "metadata": {
  "kernelspec": {
   "display_name": "base",
   "language": "python",
   "name": "python3"
  },
  "language_info": {
   "codemirror_mode": {
    "name": "ipython",
    "version": 3
   },
   "file_extension": ".py",
   "mimetype": "text/x-python",
   "name": "python",
   "nbconvert_exporter": "python",
   "pygments_lexer": "ipython3",
   "version": "3.13.5"
  }
 },
 "nbformat": 4,
 "nbformat_minor": 5
}
